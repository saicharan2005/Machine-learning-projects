{
  "cells": [
    {
      "cell_type": "code",
      "execution_count": null,
      "id": "3b7d321e",
      "metadata": {
        "id": "3b7d321e"
      },
      "outputs": [],
      "source": [
        "import numpy as np\n",
        "import pandas as pd\n",
        "import matplotlib.pyplot as plt\n",
        "import seaborn as sns\n"
      ]
    },
    {
      "cell_type": "code",
      "source": [],
      "metadata": {
        "id": "RIed5VBRp6fe"
      },
      "id": "RIed5VBRp6fe",
      "execution_count": null,
      "outputs": []
    },
    {
      "cell_type": "code",
      "execution_count": null,
      "id": "a17ab871",
      "metadata": {
        "id": "a17ab871"
      },
      "outputs": [],
      "source": [
        "df = pd.read_csv(\"https://github.com/YBIFoundation/Dataset/raw/main/Diabetes.csv\")"
      ]
    },
    {
      "cell_type": "code",
      "execution_count": null,
      "id": "2f6306cb",
      "metadata": {
        "id": "2f6306cb",
        "outputId": "17e8a82d-3f8c-4d0b-db81-484e83d27e39"
      },
      "outputs": [
        {
          "data": {
            "text/html": [
              "<div>\n",
              "<style scoped>\n",
              "    .dataframe tbody tr th:only-of-type {\n",
              "        vertical-align: middle;\n",
              "    }\n",
              "\n",
              "    .dataframe tbody tr th {\n",
              "        vertical-align: top;\n",
              "    }\n",
              "\n",
              "    .dataframe thead th {\n",
              "        text-align: right;\n",
              "    }\n",
              "</style>\n",
              "<table border=\"1\" class=\"dataframe\">\n",
              "  <thead>\n",
              "    <tr style=\"text-align: right;\">\n",
              "      <th></th>\n",
              "      <th>pregnancies</th>\n",
              "      <th>glucose</th>\n",
              "      <th>diastolic</th>\n",
              "      <th>triceps</th>\n",
              "      <th>insulin</th>\n",
              "      <th>bmi</th>\n",
              "      <th>dpf</th>\n",
              "      <th>age</th>\n",
              "      <th>diabetes</th>\n",
              "    </tr>\n",
              "  </thead>\n",
              "  <tbody>\n",
              "    <tr>\n",
              "      <th>0</th>\n",
              "      <td>6</td>\n",
              "      <td>148</td>\n",
              "      <td>72</td>\n",
              "      <td>35</td>\n",
              "      <td>0</td>\n",
              "      <td>33.6</td>\n",
              "      <td>0.627</td>\n",
              "      <td>50</td>\n",
              "      <td>1</td>\n",
              "    </tr>\n",
              "    <tr>\n",
              "      <th>1</th>\n",
              "      <td>1</td>\n",
              "      <td>85</td>\n",
              "      <td>66</td>\n",
              "      <td>29</td>\n",
              "      <td>0</td>\n",
              "      <td>26.6</td>\n",
              "      <td>0.351</td>\n",
              "      <td>31</td>\n",
              "      <td>0</td>\n",
              "    </tr>\n",
              "    <tr>\n",
              "      <th>2</th>\n",
              "      <td>8</td>\n",
              "      <td>183</td>\n",
              "      <td>64</td>\n",
              "      <td>0</td>\n",
              "      <td>0</td>\n",
              "      <td>23.3</td>\n",
              "      <td>0.672</td>\n",
              "      <td>32</td>\n",
              "      <td>1</td>\n",
              "    </tr>\n",
              "    <tr>\n",
              "      <th>3</th>\n",
              "      <td>1</td>\n",
              "      <td>89</td>\n",
              "      <td>66</td>\n",
              "      <td>23</td>\n",
              "      <td>94</td>\n",
              "      <td>28.1</td>\n",
              "      <td>0.167</td>\n",
              "      <td>21</td>\n",
              "      <td>0</td>\n",
              "    </tr>\n",
              "    <tr>\n",
              "      <th>4</th>\n",
              "      <td>0</td>\n",
              "      <td>137</td>\n",
              "      <td>40</td>\n",
              "      <td>35</td>\n",
              "      <td>168</td>\n",
              "      <td>43.1</td>\n",
              "      <td>2.288</td>\n",
              "      <td>33</td>\n",
              "      <td>1</td>\n",
              "    </tr>\n",
              "  </tbody>\n",
              "</table>\n",
              "</div>"
            ],
            "text/plain": [
              "   pregnancies  glucose  diastolic  triceps  insulin   bmi    dpf  age  \\\n",
              "0            6      148         72       35        0  33.6  0.627   50   \n",
              "1            1       85         66       29        0  26.6  0.351   31   \n",
              "2            8      183         64        0        0  23.3  0.672   32   \n",
              "3            1       89         66       23       94  28.1  0.167   21   \n",
              "4            0      137         40       35      168  43.1  2.288   33   \n",
              "\n",
              "   diabetes  \n",
              "0         1  \n",
              "1         0  \n",
              "2         1  \n",
              "3         0  \n",
              "4         1  "
            ]
          },
          "execution_count": 6,
          "metadata": {},
          "output_type": "execute_result"
        }
      ],
      "source": [
        "df.head()"
      ]
    },
    {
      "cell_type": "code",
      "execution_count": null,
      "id": "2867e0bf",
      "metadata": {
        "id": "2867e0bf",
        "outputId": "7dcb6fe4-68c7-472d-8aee-0b863909b1a8"
      },
      "outputs": [
        {
          "name": "stdout",
          "output_type": "stream",
          "text": [
            "<class 'pandas.core.frame.DataFrame'>\n",
            "RangeIndex: 768 entries, 0 to 767\n",
            "Data columns (total 9 columns):\n",
            " #   Column       Non-Null Count  Dtype  \n",
            "---  ------       --------------  -----  \n",
            " 0   pregnancies  768 non-null    int64  \n",
            " 1   glucose      768 non-null    int64  \n",
            " 2   diastolic    768 non-null    int64  \n",
            " 3   triceps      768 non-null    int64  \n",
            " 4   insulin      768 non-null    int64  \n",
            " 5   bmi          768 non-null    float64\n",
            " 6   dpf          768 non-null    float64\n",
            " 7   age          768 non-null    int64  \n",
            " 8   diabetes     768 non-null    int64  \n",
            "dtypes: float64(2), int64(7)\n",
            "memory usage: 54.1 KB\n"
          ]
        }
      ],
      "source": [
        "df.info()"
      ]
    },
    {
      "cell_type": "code",
      "execution_count": null,
      "id": "b7aa6166",
      "metadata": {
        "id": "b7aa6166",
        "outputId": "aa8c7805-bcc3-411d-8ea0-17b4e7bc1364"
      },
      "outputs": [
        {
          "data": {
            "text/html": [
              "<div>\n",
              "<style scoped>\n",
              "    .dataframe tbody tr th:only-of-type {\n",
              "        vertical-align: middle;\n",
              "    }\n",
              "\n",
              "    .dataframe tbody tr th {\n",
              "        vertical-align: top;\n",
              "    }\n",
              "\n",
              "    .dataframe thead th {\n",
              "        text-align: right;\n",
              "    }\n",
              "</style>\n",
              "<table border=\"1\" class=\"dataframe\">\n",
              "  <thead>\n",
              "    <tr style=\"text-align: right;\">\n",
              "      <th></th>\n",
              "      <th>pregnancies</th>\n",
              "      <th>glucose</th>\n",
              "      <th>diastolic</th>\n",
              "      <th>triceps</th>\n",
              "      <th>insulin</th>\n",
              "      <th>bmi</th>\n",
              "      <th>dpf</th>\n",
              "      <th>age</th>\n",
              "      <th>diabetes</th>\n",
              "    </tr>\n",
              "  </thead>\n",
              "  <tbody>\n",
              "    <tr>\n",
              "      <th>count</th>\n",
              "      <td>768.000000</td>\n",
              "      <td>768.000000</td>\n",
              "      <td>768.000000</td>\n",
              "      <td>768.000000</td>\n",
              "      <td>768.000000</td>\n",
              "      <td>768.000000</td>\n",
              "      <td>768.000000</td>\n",
              "      <td>768.000000</td>\n",
              "      <td>768.000000</td>\n",
              "    </tr>\n",
              "    <tr>\n",
              "      <th>mean</th>\n",
              "      <td>3.845052</td>\n",
              "      <td>120.894531</td>\n",
              "      <td>69.105469</td>\n",
              "      <td>20.536458</td>\n",
              "      <td>79.799479</td>\n",
              "      <td>31.992578</td>\n",
              "      <td>0.471876</td>\n",
              "      <td>33.240885</td>\n",
              "      <td>0.348958</td>\n",
              "    </tr>\n",
              "    <tr>\n",
              "      <th>std</th>\n",
              "      <td>3.369578</td>\n",
              "      <td>31.972618</td>\n",
              "      <td>19.355807</td>\n",
              "      <td>15.952218</td>\n",
              "      <td>115.244002</td>\n",
              "      <td>7.884160</td>\n",
              "      <td>0.331329</td>\n",
              "      <td>11.760232</td>\n",
              "      <td>0.476951</td>\n",
              "    </tr>\n",
              "    <tr>\n",
              "      <th>min</th>\n",
              "      <td>0.000000</td>\n",
              "      <td>0.000000</td>\n",
              "      <td>0.000000</td>\n",
              "      <td>0.000000</td>\n",
              "      <td>0.000000</td>\n",
              "      <td>0.000000</td>\n",
              "      <td>0.078000</td>\n",
              "      <td>21.000000</td>\n",
              "      <td>0.000000</td>\n",
              "    </tr>\n",
              "    <tr>\n",
              "      <th>25%</th>\n",
              "      <td>1.000000</td>\n",
              "      <td>99.000000</td>\n",
              "      <td>62.000000</td>\n",
              "      <td>0.000000</td>\n",
              "      <td>0.000000</td>\n",
              "      <td>27.300000</td>\n",
              "      <td>0.243750</td>\n",
              "      <td>24.000000</td>\n",
              "      <td>0.000000</td>\n",
              "    </tr>\n",
              "    <tr>\n",
              "      <th>50%</th>\n",
              "      <td>3.000000</td>\n",
              "      <td>117.000000</td>\n",
              "      <td>72.000000</td>\n",
              "      <td>23.000000</td>\n",
              "      <td>30.500000</td>\n",
              "      <td>32.000000</td>\n",
              "      <td>0.372500</td>\n",
              "      <td>29.000000</td>\n",
              "      <td>0.000000</td>\n",
              "    </tr>\n",
              "    <tr>\n",
              "      <th>75%</th>\n",
              "      <td>6.000000</td>\n",
              "      <td>140.250000</td>\n",
              "      <td>80.000000</td>\n",
              "      <td>32.000000</td>\n",
              "      <td>127.250000</td>\n",
              "      <td>36.600000</td>\n",
              "      <td>0.626250</td>\n",
              "      <td>41.000000</td>\n",
              "      <td>1.000000</td>\n",
              "    </tr>\n",
              "    <tr>\n",
              "      <th>max</th>\n",
              "      <td>17.000000</td>\n",
              "      <td>199.000000</td>\n",
              "      <td>122.000000</td>\n",
              "      <td>99.000000</td>\n",
              "      <td>846.000000</td>\n",
              "      <td>67.100000</td>\n",
              "      <td>2.420000</td>\n",
              "      <td>81.000000</td>\n",
              "      <td>1.000000</td>\n",
              "    </tr>\n",
              "  </tbody>\n",
              "</table>\n",
              "</div>"
            ],
            "text/plain": [
              "       pregnancies     glucose   diastolic     triceps     insulin  \\\n",
              "count   768.000000  768.000000  768.000000  768.000000  768.000000   \n",
              "mean      3.845052  120.894531   69.105469   20.536458   79.799479   \n",
              "std       3.369578   31.972618   19.355807   15.952218  115.244002   \n",
              "min       0.000000    0.000000    0.000000    0.000000    0.000000   \n",
              "25%       1.000000   99.000000   62.000000    0.000000    0.000000   \n",
              "50%       3.000000  117.000000   72.000000   23.000000   30.500000   \n",
              "75%       6.000000  140.250000   80.000000   32.000000  127.250000   \n",
              "max      17.000000  199.000000  122.000000   99.000000  846.000000   \n",
              "\n",
              "              bmi         dpf         age    diabetes  \n",
              "count  768.000000  768.000000  768.000000  768.000000  \n",
              "mean    31.992578    0.471876   33.240885    0.348958  \n",
              "std      7.884160    0.331329   11.760232    0.476951  \n",
              "min      0.000000    0.078000   21.000000    0.000000  \n",
              "25%     27.300000    0.243750   24.000000    0.000000  \n",
              "50%     32.000000    0.372500   29.000000    0.000000  \n",
              "75%     36.600000    0.626250   41.000000    1.000000  \n",
              "max     67.100000    2.420000   81.000000    1.000000  "
            ]
          },
          "execution_count": 5,
          "metadata": {},
          "output_type": "execute_result"
        }
      ],
      "source": [
        "df.describe()"
      ]
    },
    {
      "cell_type": "code",
      "execution_count": null,
      "id": "c25c9f05",
      "metadata": {
        "id": "c25c9f05",
        "outputId": "41da8f96-989d-4ecb-c018-10bd38bd2069"
      },
      "outputs": [
        {
          "data": {
            "text/plain": [
              "Index(['pregnancies', 'glucose', 'diastolic', 'triceps', 'insulin', 'bmi',\n",
              "       'dpf', 'age', 'diabetes'],\n",
              "      dtype='object')"
            ]
          },
          "execution_count": 7,
          "metadata": {},
          "output_type": "execute_result"
        }
      ],
      "source": [
        "df.columns"
      ]
    },
    {
      "cell_type": "code",
      "execution_count": null,
      "id": "f6e21b80",
      "metadata": {
        "id": "f6e21b80"
      },
      "outputs": [],
      "source": []
    },
    {
      "cell_type": "code",
      "execution_count": null,
      "id": "68fcd4ba",
      "metadata": {
        "id": "68fcd4ba"
      },
      "outputs": [],
      "source": [
        "y=df['diabetes']\n",
        "x=df[['pregnancies', 'glucose', 'diastolic', 'triceps', 'insulin', 'bmi',\n",
        "       'dpf', 'age']]"
      ]
    },
    {
      "cell_type": "code",
      "execution_count": null,
      "id": "d4e48be4",
      "metadata": {
        "id": "d4e48be4",
        "outputId": "9525da04-9e8d-43c4-87f0-a3d607e18282"
      },
      "outputs": [
        {
          "data": {
            "text/plain": [
              "((768, 9), (768, 8), (768,))"
            ]
          },
          "execution_count": 17,
          "metadata": {},
          "output_type": "execute_result"
        }
      ],
      "source": [
        "df.shape,x.shape,y.shape"
      ]
    },
    {
      "cell_type": "code",
      "execution_count": null,
      "id": "ad977486",
      "metadata": {
        "id": "ad977486"
      },
      "outputs": [],
      "source": [
        "from sklearn.model_selection import train_test_split\n",
        "x_train,x_test,y_train,y_test = train_test_split(x,y,random_state=2376)"
      ]
    },
    {
      "cell_type": "code",
      "execution_count": null,
      "id": "fe139cb2",
      "metadata": {
        "id": "fe139cb2",
        "outputId": "492f0bd2-9250-45e0-b97c-996006066421"
      },
      "outputs": [
        {
          "data": {
            "text/plain": [
              "<AxesSubplot:xlabel='pregnancies', ylabel='diabetes'>"
            ]
          },
          "execution_count": 22,
          "metadata": {},
          "output_type": "execute_result"
        },
        {
          "data": {
            "image/png": "[encoded data removed]",
            "text/plain": [
              "<Figure size 432x288 with 1 Axes>"
            ]
          },
          "metadata": {
            "needs_background": "light"
          },
          "output_type": "display_data"
        }
      ],
      "source": [
        "sns.regplot(x='pregnancies',y='diabetes',data=df,fit_reg=False)"
      ]
    },
    {
      "cell_type": "code",
      "execution_count": null,
      "id": "f251de73",
      "metadata": {
        "id": "f251de73",
        "outputId": "13475f32-2fb4-4208-80b9-b382f6e48a6e"
      },
      "outputs": [
        {
          "data": {
            "text/plain": [
              "<AxesSubplot:xlabel='pregnancies', ylabel='diabetes'>"
            ]
          },
          "execution_count": 30,
          "metadata": {},
          "output_type": "execute_result"
        },
        {
          "data": {
            "image/png": "[encoded data removed]",
            "text/plain": [
              "<Figure size 432x288 with 1 Axes>"
            ]
          },
          "metadata": {
            "needs_background": "light"
          },
          "output_type": "display_data"
        }
      ],
      "source": [
        "sns.regplot(x=df[\"pregnancies\"],y=df[\"diabetes\"],logistic=True)"
      ]
    },
    {
      "cell_type": "code",
      "execution_count": null,
      "id": "9a1e3c6f",
      "metadata": {
        "id": "9a1e3c6f"
      },
      "outputs": [],
      "source": [
        "from sklearn.linear_model import LogisticRegression\n",
        "model=LogisticRegression()"
      ]
    },
    {
      "cell_type": "code",
      "execution_count": null,
      "id": "aefc740a",
      "metadata": {
        "id": "aefc740a",
        "outputId": "1fc8afdd-b7e0-4dd0-cdec-ea75e1ded20a"
      },
      "outputs": [
        {
          "name": "stderr",
          "output_type": "stream",
          "text": [
            "D:\\New folder\\lib\\site-packages\\sklearn\\linear_model\\_logistic.py:763: ConvergenceWarning: lbfgs failed to converge (status=1):\n",
            "STOP: TOTAL NO. of ITERATIONS REACHED LIMIT.\n",
            "\n",
            "Increase the number of iterations (max_iter) or scale the data as shown in:\n",
            "    https://scikit-learn.org/stable/modules/preprocessing.html\n",
            "Please also refer to the documentation for alternative solver options:\n",
            "    https://scikit-learn.org/stable/modules/linear_model.html#logistic-regression\n",
            "  n_iter_i = _check_optimize_result(\n"
          ]
        },
        {
          "data": {
            "text/plain": [
              "LogisticRegression()"
            ]
          },
          "execution_count": 39,
          "metadata": {},
          "output_type": "execute_result"
        }
      ],
      "source": [
        "model.fit(x_train,y_train)"
      ]
    },
    {
      "cell_type": "code",
      "execution_count": null,
      "id": "49943c64",
      "metadata": {
        "id": "49943c64"
      },
      "outputs": [],
      "source": [
        "y_pred=model.predict(x_test)"
      ]
    },
    {
      "cell_type": "code",
      "execution_count": null,
      "id": "7ed7830c",
      "metadata": {
        "id": "7ed7830c",
        "outputId": "43d5bbd4-8ab8-4c62-b90b-8628ee20b8ca"
      },
      "outputs": [
        {
          "data": {
            "text/plain": [
              "array([[0.6859968 , 0.3140032 ],\n",
              "       [0.81352049, 0.18647951],\n",
              "       [0.77303766, 0.22696234],\n",
              "       [0.52522797, 0.47477203],\n",
              "       [0.66607343, 0.33392657],\n",
              "       [0.4220619 , 0.5779381 ],\n",
              "       [0.12073677, 0.87926323],\n",
              "       [0.19736869, 0.80263131],\n",
              "       [0.53869232, 0.46130768],\n",
              "       [0.31846399, 0.68153601],\n",
              "       [0.91662447, 0.08337553],\n",
              "       [0.06689807, 0.93310193],\n",
              "       [0.77250977, 0.22749023],\n",
              "       [0.59798126, 0.40201874],\n",
              "       [0.19667958, 0.80332042],\n",
              "       [0.9192562 , 0.0807438 ],\n",
              "       [0.75373034, 0.24626966],\n",
              "       [0.09057472, 0.90942528],\n",
              "       [0.8320749 , 0.1679251 ],\n",
              "       [0.6778758 , 0.3221242 ],\n",
              "       [0.82819038, 0.17180962],\n",
              "       [0.84569254, 0.15430746],\n",
              "       [0.69794007, 0.30205993],\n",
              "       [0.72861638, 0.27138362],\n",
              "       [0.58116342, 0.41883658],\n",
              "       [0.93873053, 0.06126947],\n",
              "       [0.93781433, 0.06218567],\n",
              "       [0.48041373, 0.51958627],\n",
              "       [0.33020283, 0.66979717],\n",
              "       [0.73845894, 0.26154106],\n",
              "       [0.26536156, 0.73463844],\n",
              "       [0.80690053, 0.19309947],\n",
              "       [0.62575101, 0.37424899],\n",
              "       [0.99614858, 0.00385142],\n",
              "       [0.58755702, 0.41244298],\n",
              "       [0.11956113, 0.88043887],\n",
              "       [0.78489184, 0.21510816],\n",
              "       [0.8753188 , 0.1246812 ],\n",
              "       [0.89874668, 0.10125332],\n",
              "       [0.74285354, 0.25714646],\n",
              "       [0.94907729, 0.05092271],\n",
              "       [0.85241459, 0.14758541],\n",
              "       [0.81164001, 0.18835999],\n",
              "       [0.16313531, 0.83686469],\n",
              "       [0.89636761, 0.10363239],\n",
              "       [0.64298216, 0.35701784],\n",
              "       [0.34962165, 0.65037835],\n",
              "       [0.6922596 , 0.3077404 ],\n",
              "       [0.58974451, 0.41025549],\n",
              "       [0.22879032, 0.77120968],\n",
              "       [0.81413611, 0.18586389],\n",
              "       [0.86119594, 0.13880406],\n",
              "       [0.35006855, 0.64993145],\n",
              "       [0.90581475, 0.09418525],\n",
              "       [0.09667357, 0.90332643],\n",
              "       [0.96745749, 0.03254251],\n",
              "       [0.81444578, 0.18555422],\n",
              "       [0.8024686 , 0.1975314 ],\n",
              "       [0.95101166, 0.04898834],\n",
              "       [0.2336593 , 0.7663407 ],\n",
              "       [0.9618483 , 0.0381517 ],\n",
              "       [0.41269762, 0.58730238],\n",
              "       [0.76796245, 0.23203755],\n",
              "       [0.62148425, 0.37851575],\n",
              "       [0.46457716, 0.53542284],\n",
              "       [0.49801855, 0.50198145],\n",
              "       [0.28349045, 0.71650955],\n",
              "       [0.72396831, 0.27603169],\n",
              "       [0.44667033, 0.55332967],\n",
              "       [0.4775924 , 0.5224076 ],\n",
              "       [0.85870726, 0.14129274],\n",
              "       [0.69318083, 0.30681917],\n",
              "       [0.87720825, 0.12279175],\n",
              "       [0.36879545, 0.63120455],\n",
              "       [0.83231381, 0.16768619],\n",
              "       [0.80473565, 0.19526435],\n",
              "       [0.23433986, 0.76566014],\n",
              "       [0.41819162, 0.58180838],\n",
              "       [0.74734951, 0.25265049],\n",
              "       [0.89034127, 0.10965873],\n",
              "       [0.13070045, 0.86929955],\n",
              "       [0.89406665, 0.10593335],\n",
              "       [0.39108923, 0.60891077],\n",
              "       [0.82141483, 0.17858517],\n",
              "       [0.94574192, 0.05425808],\n",
              "       [0.96917193, 0.03082807],\n",
              "       [0.48396465, 0.51603535],\n",
              "       [0.94709375, 0.05290625],\n",
              "       [0.33139363, 0.66860637],\n",
              "       [0.69546728, 0.30453272],\n",
              "       [0.76274133, 0.23725867],\n",
              "       [0.52934917, 0.47065083],\n",
              "       [0.39114674, 0.60885326],\n",
              "       [0.6111427 , 0.3888573 ],\n",
              "       [0.94730949, 0.05269051],\n",
              "       [0.69662567, 0.30337433],\n",
              "       [0.73384574, 0.26615426],\n",
              "       [0.81834844, 0.18165156],\n",
              "       [0.90795456, 0.09204544],\n",
              "       [0.61412622, 0.38587378],\n",
              "       [0.8205021 , 0.1794979 ],\n",
              "       [0.95033644, 0.04966356],\n",
              "       [0.72902644, 0.27097356],\n",
              "       [0.83497884, 0.16502116],\n",
              "       [0.89200963, 0.10799037],\n",
              "       [0.30946738, 0.69053262],\n",
              "       [0.95246409, 0.04753591],\n",
              "       [0.85024347, 0.14975653],\n",
              "       [0.59213706, 0.40786294],\n",
              "       [0.92186776, 0.07813224],\n",
              "       [0.72846342, 0.27153658],\n",
              "       [0.04500158, 0.95499842],\n",
              "       [0.31926453, 0.68073547],\n",
              "       [0.93492811, 0.06507189],\n",
              "       [0.83856026, 0.16143974],\n",
              "       [0.70906979, 0.29093021],\n",
              "       [0.2863367 , 0.7136633 ],\n",
              "       [0.1976266 , 0.8023734 ],\n",
              "       [0.4805482 , 0.5194518 ],\n",
              "       [0.45158572, 0.54841428],\n",
              "       [0.30324878, 0.69675122],\n",
              "       [0.49140049, 0.50859951],\n",
              "       [0.95548425, 0.04451575],\n",
              "       [0.88523919, 0.11476081],\n",
              "       [0.27810258, 0.72189742],\n",
              "       [0.34608625, 0.65391375],\n",
              "       [0.18034183, 0.81965817],\n",
              "       [0.86677487, 0.13322513],\n",
              "       [0.67662866, 0.32337134],\n",
              "       [0.88737438, 0.11262562],\n",
              "       [0.8160844 , 0.1839156 ],\n",
              "       [0.68353514, 0.31646486],\n",
              "       [0.9320013 , 0.0679987 ],\n",
              "       [0.36024599, 0.63975401],\n",
              "       [0.76295656, 0.23704344],\n",
              "       [0.52489823, 0.47510177],\n",
              "       [0.41015599, 0.58984401],\n",
              "       [0.68498172, 0.31501828],\n",
              "       [0.88111632, 0.11888368],\n",
              "       [0.75068781, 0.24931219],\n",
              "       [0.89324886, 0.10675114],\n",
              "       [0.92214605, 0.07785395],\n",
              "       [0.85497305, 0.14502695],\n",
              "       [0.95394429, 0.04605571],\n",
              "       [0.5619004 , 0.4380996 ],\n",
              "       [0.85589162, 0.14410838],\n",
              "       [0.16024693, 0.83975307],\n",
              "       [0.28741215, 0.71258785],\n",
              "       [0.76199996, 0.23800004],\n",
              "       [0.73301553, 0.26698447],\n",
              "       [0.16829693, 0.83170307],\n",
              "       [0.10156936, 0.89843064],\n",
              "       [0.45183407, 0.54816593],\n",
              "       [0.87160662, 0.12839338],\n",
              "       [0.89410508, 0.10589492],\n",
              "       [0.78328996, 0.21671004],\n",
              "       [0.57559947, 0.42440053],\n",
              "       [0.62941766, 0.37058234],\n",
              "       [0.64480229, 0.35519771],\n",
              "       [0.36121145, 0.63878855],\n",
              "       [0.24471513, 0.75528487],\n",
              "       [0.82254785, 0.17745215],\n",
              "       [0.59487249, 0.40512751],\n",
              "       [0.83055296, 0.16944704],\n",
              "       [0.6754462 , 0.3245538 ],\n",
              "       [0.15305819, 0.84694181],\n",
              "       [0.71066144, 0.28933856],\n",
              "       [0.96374181, 0.03625819],\n",
              "       [0.59816036, 0.40183964],\n",
              "       [0.54857846, 0.45142154],\n",
              "       [0.47242798, 0.52757202],\n",
              "       [0.895316  , 0.104684  ],\n",
              "       [0.90368608, 0.09631392],\n",
              "       [0.66890281, 0.33109719],\n",
              "       [0.92048771, 0.07951229],\n",
              "       [0.88167157, 0.11832843],\n",
              "       [0.92958636, 0.07041364],\n",
              "       [0.84245761, 0.15754239],\n",
              "       [0.80837236, 0.19162764],\n",
              "       [0.82900686, 0.17099314],\n",
              "       [0.35228682, 0.64771318],\n",
              "       [0.37027469, 0.62972531],\n",
              "       [0.74785831, 0.25214169],\n",
              "       [0.84860942, 0.15139058],\n",
              "       [0.32127648, 0.67872352],\n",
              "       [0.14023776, 0.85976224],\n",
              "       [0.51152016, 0.48847984],\n",
              "       [0.87952116, 0.12047884],\n",
              "       [0.05348635, 0.94651365],\n",
              "       [0.73659015, 0.26340985],\n",
              "       [0.07385427, 0.92614573],\n",
              "       [0.83474412, 0.16525588]])"
            ]
          },
          "execution_count": 35,
          "metadata": {},
          "output_type": "execute_result"
        }
      ],
      "source": [
        "model.predict_proba(x_test)"
      ]
    },
    {
      "cell_type": "markdown",
      "id": "d9c985ad",
      "metadata": {
        "id": "d9c985ad"
      },
      "source": []
    },
    {
      "cell_type": "code",
      "execution_count": null,
      "id": "51984b16",
      "metadata": {
        "id": "51984b16",
        "outputId": "651757b7-3d63-4f9f-9ef4-c04e62ab3313"
      },
      "outputs": [
        {
          "data": {
            "text/plain": [
              "0.7760416666666666"
            ]
          },
          "execution_count": 38,
          "metadata": {},
          "output_type": "execute_result"
        }
      ],
      "source": [
        "from sklearn.metrics import accuracy_score\n",
        "accuracy_score(y_pred,y_test)"
      ]
    }
  ],
  "metadata": {
    "kernelspec": {
      "display_name": "Python 3",
      "language": "python",
      "name": "python3"
    },
    "language_info": {
      "codemirror_mode": {
        "name": "ipython",
        "version": 3
      },
      "file_extension": ".py",
      "mimetype": "text/x-python",
      "name": "python",
      "nbconvert_exporter": "python",
      "pygments_lexer": "ipython3",
      "version": "3.8.8"
    },
    "colab": {
      "provenance": []
    }
  },
  "nbformat": 4,
  "nbformat_minor": 5
}